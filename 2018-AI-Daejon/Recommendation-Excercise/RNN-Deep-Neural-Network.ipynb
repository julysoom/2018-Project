{
 "cells": [
  {
   "cell_type": "code",
   "execution_count": null,
   "metadata": {},
   "outputs": [],
   "source": [
    "import pandas as pd\n",
    "import numpy as np\n",
    "import matplotlib.pyplot as plt\n",
    "from IPython.display import Image\n",
    "from keras.utils.vis_utils import plot_model\n",
    "from keras import Model\n",
    "%matplotlib inline"
   ]
  },
  {
   "cell_type": "code",
   "execution_count": null,
   "metadata": {},
   "outputs": [],
   "source": [
    "import pandas as pd\n",
    "import gzip\n",
    "\n",
    "def parse(path):\n",
    "  g = gzip.open(path, \"rb\")\n",
    "  for l in g:\n",
    "    yield eval(l)\n",
    "\n",
    "def getDF(path):\n",
    "  i = 0\n",
    "  df = {}\n",
    "  for d in parse(path):\n",
    "    df[i] = d\n",
    "    i += 1\n",
    "  return pd.DataFrame.from_dict(df, orient=\"index\")\n",
    "\n",
    "df = getDF(\"data/reviews_Musical_Instruments_5.gz\")"
   ]
  },
  {
   "cell_type": "code",
   "execution_count": null,
   "metadata": {},
   "outputs": [],
   "source": [
    "df = df[[\"reviewerID\",\"asin\",\"overall\", \"reviewText\", \"unixReviewTime\"]]\n",
    "df = df.dropna()\n",
    "df.overall = df.overall.astype(int)\n",
    "df.reviewText = df.reviewText.str.lower()\n",
    "df.reviewerID = df.reviewerID.astype(\"category\").cat.codes.values\n",
    "df.asin = df.asin.astype(\"category\").cat.codes.values\n",
    "df = df.sort_values([\"reviewerID\",\"unixReviewTime\"]).reset_index(drop=True)"
   ]
  },
  {
   "cell_type": "code",
   "execution_count": null,
   "metadata": {},
   "outputs": [],
   "source": [
    "seqs=[]\n",
    "tars=[]\n",
    "maxlen=0\n",
    "for user in df.reviewerID.unique() :\n",
    "    i_list = df[df.reviewerID==user].asin.values\n",
    "    tar = list(df[df.reviewerID==user].overall[1 :].values)\n",
    "    seq = []\n",
    "    for i in range(1, len(i_list)) :\n",
    "        seq.append(i_list[ :i+1])\n",
    "    if len(seq) > maxlen :\n",
    "        maxlen = len(seq)\n",
    "    seqs.extend(seq)\n",
    "    tars.extend(tar)"
   ]
  },
  {
   "cell_type": "code",
   "execution_count": null,
   "metadata": {},
   "outputs": [],
   "source": [
    "from keras.preprocessing import sequence\n",
    "seqs = sequence.pad_sequences(seqs)"
   ]
  },
  {
   "cell_type": "code",
   "execution_count": null,
   "metadata": {},
   "outputs": [],
   "source": [
    "from keras.models import Sequential\n",
    "from keras.layers import Embedding, GRU, Dense"
   ]
  },
  {
   "cell_type": "code",
   "execution_count": null,
   "metadata": {},
   "outputs": [],
   "source": [
    "item_size = df.asin.max()+1\n",
    "embed_size = 100"
   ]
  },
  {
   "cell_type": "code",
   "execution_count": null,
   "metadata": {},
   "outputs": [],
   "source": [
    "model = Sequential()\n",
    "model.add(Embedding(item_size, embed_size, input_length=maxlen+1, mask_zero = True))\n",
    "model.add(GRU(32, recurrent_dropout=0.2, return_sequences=True))\n",
    "model.add(GRU(32, recurrent_dropout=0.2, return_sequences=False))\n",
    "model.add(Dense(32))\n",
    "model.add(Dense(1))\n",
    "model.compile(loss=\"binary_crossentropy\", optimizer=\"adam\", metrics=[\"mae\"])\n",
    "model.summary()\n",
    "plot_model(model, to_file=\"model.png\", show_shapes=True)\n",
    "Image(\"model.png\")"
   ]
  },
  {
   "cell_type": "code",
   "execution_count": null,
   "metadata": {},
   "outputs": [],
   "source": [
    "history = model.fit(seqs, np.asarray(tars), batch_size=256, epochs=30, validation_split=0.2)"
   ]
  },
  {
   "cell_type": "code",
   "execution_count": null,
   "metadata": {},
   "outputs": [],
   "source": [
    "plt.plot(history.history[\"val_mean_absolute_error\"])"
   ]
  },
  {
   "cell_type": "markdown",
   "metadata": {},
   "source": [
    "# 2. Ask the GRU"
   ]
  },
  {
   "cell_type": "code",
   "execution_count": null,
   "metadata": {},
   "outputs": [],
   "source": [
    "max_features = 2000\n",
    "embed_size = 100\n",
    "n_items = len(df.asin.unique())\n",
    "n_users = len(df.reviewerID.unique())"
   ]
  },
  {
   "cell_type": "code",
   "execution_count": null,
   "metadata": {},
   "outputs": [],
   "source": [
    "import collections\n",
    "import os \n",
    "import nltk\n",
    "\n",
    "maxlen = 0\n",
    "word_freqs = collections.Counter()\n",
    "num_recs = 0\n",
    "for sentence in df.reviewText.values:\n",
    "    words = nltk.word_tokenize(sentence)\n",
    "    if len(words) > maxlen:\n",
    "        maxlen = len(words)\n",
    "    for word in words:\n",
    "        word_freqs[word] += 1\n",
    "    num_recs += 1"
   ]
  },
  {
   "cell_type": "code",
   "execution_count": null,
   "metadata": {},
   "outputs": [],
   "source": [
    "word2index = {x[0]: i+2 for i, x in enumerate(word_freqs.most_common(max_features))}\n",
    "word2index[\"PAD\"] = 0\n",
    "word2index[\"UNK\"] = 1\n",
    "index2word = {v:k for k, v in word2index.items()}"
   ]
  },
  {
   "cell_type": "code",
   "execution_count": null,
   "metadata": {},
   "outputs": [],
   "source": [
    "x = np.empty((len(df),), dtype=list)\n",
    "i=0\n",
    "\n",
    "for review in df.reviewText.values:\n",
    "    words = nltk.word_tokenize(review)\n",
    "    seqs = []\n",
    "    for word in words:\n",
    "        if word in word2index:\n",
    "            seqs.append(word2index[word])\n",
    "        else:\n",
    "            seqs.append(word2index[\"UNK\"])\n",
    "    x[i] = seqs\n",
    "    i += 1\n",
    "x = sequence.pad_sequences(x, maxlen=maxlen)"
   ]
  },
  {
   "cell_type": "code",
   "execution_count": null,
   "metadata": {},
   "outputs": [],
   "source": [
    "from keras.models import Model\n",
    "from keras.layers import Input, Dense, Flatten, Embedding, GRU, Add"
   ]
  },
  {
   "cell_type": "code",
   "execution_count": null,
   "metadata": {},
   "outputs": [],
   "source": [
    "# GRU Layers\n",
    "gru_in = Input(shape=(maxlen,))\n",
    "gru_em = Embedding(max_features+2, embed_size, input_length=maxlen, mask_zero=True)(gru_in)\n",
    "gru1 = GRU(32, recurrent_dropout=0.2, return_sequences=True)(gru_em)\n",
    "gru2 = GRU(32, recurrent_dropout=0.2, return_sequences=False)(gru1)\n",
    "g_func = Dense(embed_size)(gru2)\n",
    "\n",
    "#item Layers\n",
    "item_input = Input(shape=[1],name=\"Item\")\n",
    "item_embed = Embedding(n_items + 1, embed_size)(item_input)\n",
    "item_vec = Flatten()(item_embed)\n",
    "\n",
    "merge = Add()([g_func, item_vec])\n",
    "out = Dense(1)(merge)\n",
    "\n",
    "model = Model([gru_in, item_input], out)\n",
    "model.compile(loss=\"binary_crossentropy\", optimizer=\"adam\", metrics=[\"mae\"])\n",
    "model.summary()\n",
    "plot_model(model, to_file=\"model.png\", show_shapes=True)\n",
    "Image(\"model.png\")"
   ]
  },
  {
   "cell_type": "code",
   "execution_count": null,
   "metadata": {},
   "outputs": [],
   "source": [
    "history = model.fit([x, df.asin.values],df.overall.values, batch_size=256, epochs=30, validation_split=0.2)"
   ]
  },
  {
   "cell_type": "code",
   "execution_count": null,
   "metadata": {},
   "outputs": [],
   "source": [
    "plt.plot(history.history[\"val_mean_absolute_error\"])"
   ]
  }
 ],
 "metadata": {
  "kernelspec": {
   "display_name": "Python 3",
   "language": "python",
   "name": "python3"
  },
  "language_info": {
   "codemirror_mode": {
    "name": "ipython",
    "version": 3
   },
   "file_extension": ".py",
   "mimetype": "text/x-python",
   "name": "python",
   "nbconvert_exporter": "python",
   "pygments_lexer": "ipython3",
   "version": "3.6.7"
  },
  "toc": {
   "base_numbering": 1,
   "nav_menu": {},
   "number_sections": true,
   "sideBar": true,
   "skip_h1_title": false,
   "title_cell": "Table of Contents",
   "title_sidebar": "Contents",
   "toc_cell": false,
   "toc_position": {},
   "toc_section_display": true,
   "toc_window_display": false
  },
  "varInspector": {
   "cols": {
    "lenName": 16,
    "lenType": 16,
    "lenVar": 40
   },
   "kernels_config": {
    "python": {
     "delete_cmd_postfix": "",
     "delete_cmd_prefix": "del ",
     "library": "var_list.py",
     "varRefreshCmd": "print(var_dic_list())"
    },
    "r": {
     "delete_cmd_postfix": ") ",
     "delete_cmd_prefix": "rm(",
     "library": "var_list.r",
     "varRefreshCmd": "cat(var_dic_list()) "
    }
   },
   "types_to_exclude": [
    "module",
    "function",
    "builtin_function_or_method",
    "instance",
    "_Feature"
   ],
   "window_display": false
  }
 },
 "nbformat": 4,
 "nbformat_minor": 2
}
